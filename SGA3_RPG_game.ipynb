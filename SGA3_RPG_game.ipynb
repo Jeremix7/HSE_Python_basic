{
 "cells": [
  {
   "cell_type": "markdown",
   "id": "78ee7a5a",
   "metadata": {},
   "source": [
    "# Monsters and Artifacts"
   ]
  },
  {
   "cell_type": "markdown",
   "id": "fde9f34d",
   "metadata": {},
   "source": [
    "**Description of the game and gameplay:** \n",
    "\n",
    "The game **\"Monsters and Artifacts\"** is a text RPG game. The idea of the game is to search for artifacts while traveling through an endless world. When traveling around the world, the player may encounter monsters and bosses. For killing monsters, the player receives experience points, which can later be spent on pumping characteristics. When killing a boss, the player is additionally guaranteed to receive an artifact. It may also turn out that when entering a location there will be no monster or boss in it, then the player can spend the action on rest and restoring health or searching for an artifact in the location.\n",
    "\n",
    "\n",
    "\n",
    "**Game rules:**\n",
    "The gameplay is divided into stages - each stage is an entrance to a certain location.\n",
    "\n",
    "When entering a location , the following scenarios are possible:\n",
    "- there is no one in the location, then the player can spend his turn resting or searching for an artifact in the location.\n",
    "- there is a monster in the location, then the player can try to escape from location and move to the next location or take the fight.\n",
    "- there is a boss in the location, the player is forced to take the fight, it will not work to escape from the boss.\n",
    "\n",
    "**Description of win scenario** - the player has found N artifacts (the number of artifacts to win depends on the complexity of the game).\n",
    "\n",
    "**Description of lose scenarios** - the player died while fighting a monster/boss."
   ]
  },
  {
   "cell_type": "markdown",
   "id": "8c77a137",
   "metadata": {},
   "source": [
    "**A set of actions** is implemented using functions:\n",
    "- choosing the difficulty of the game (<span style=\"color:blue\">difficulty_level</span>);\n",
    "- character creation (<span style=\"color:blue\">create_hero</span>);\n",
    "- distribution of initial points of characteristics (<span style=\"color:blue\">use_points</span>);\n",
    "- choosing a random location (<span style=\"color:blue\">location</span>);\n",
    "- experience counter (<span style=\"color:blue\">experience</span>);\n",
    "- character improvement when getting a new level (<span style=\"color:blue\">improve_hero</span>);\n",
    "- creating a random enemy (<span style=\"color:blue\">create_enemy</span>);\n",
    "- creating a random boss (<span style=\"color:blue\">create_boss</span>);\n",
    "- checking the winning conditions (<span style=\"color:blue\">check_win</span>);\n",
    "- checking the conditions of defeat (<span style=\"color:blue\">check_death_hero</span>);\n",
    "- checking the enemy's death (<span style=\"color:blue\">check_death_enemy</span>);\n",
    "- checking the death of the boss (<span style=\"color:blue\">check_death_boss</span>);\n",
    "- using a healing potion when fighting an enemy (<span style=\"color:blue\">use_potion</span>);\n",
    "- battle with the enemy (<span style=\"color:blue\">battle_with_enemy</span>);\n",
    "- boss battle (<span style=\"color:blue\">battle_with_boss</span>);\n",
    "- location scenario - encounter with an enemy, boss, or a location without monsters (<span style=\"color:blue\">meeting_the_enemy</span>);\n",
    "- search for an artifact on location (<span style=\"color:blue\">artifact_search</span>);\n",
    "- rest (<span style=\"color:blue\">rest</span>);\n",
    "- determining the structure and order of the game using other functions (<span style=\"color:blue\">adventure</span>)."
   ]
  },
  {
   "cell_type": "markdown",
   "id": "15bb3655",
   "metadata": {},
   "source": [
    "**1. Importing libraries.** \n",
    "\n",
    "The **random** library is used for:\n",
    "- generating a location;\n",
    "- generating random events at a location;\n",
    "- determining the characteristics of an enemy;\n",
    "- escaping from a monster;\n",
    "- battles with monsters;\n",
    "- search for artifacts at the location;\n",
    "- of restoring health during rest.\n",
    "\n",
    "The **time** library is used to create delays in code execution."
   ]
  },
  {
   "cell_type": "code",
   "execution_count": 1,
   "id": "5f5c33e0",
   "metadata": {
    "ExecuteTime": {
     "end_time": "2023-11-06T11:25:49.351454Z",
     "start_time": "2023-11-06T11:25:49.347988Z"
    }
   },
   "outputs": [],
   "source": [
    "import random\n",
    "import time\n",
    "import sys"
   ]
  },
  {
   "cell_type": "markdown",
   "id": "caf33b6b",
   "metadata": {},
   "source": [
    "**2. The function \"difficulty_level()\"** is responsible for determining the difficulty of the game. \n",
    "\n",
    "The difficulty affects:\n",
    "- the number of artifacts that need to be found,\n",
    "- the characteristics of monsters\n",
    "- the number of potions of treatment."
   ]
  },
  {
   "cell_type": "code",
   "execution_count": 2,
   "id": "c6c01b7b",
   "metadata": {
    "ExecuteTime": {
     "end_time": "2023-11-06T11:25:49.361884Z",
     "start_time": "2023-11-06T11:25:49.355449Z"
    }
   },
   "outputs": [],
   "source": [
    "def difficulty_level():\n",
    "    '''Asks the user to enter a number from 1 to 3, depending on the number \n",
    "    entered, definesthe global variables \"difficult_hard\", \"difficult_mobs\",\n",
    "    \"health_potion\" and assigns values to them'''\n",
    "    while True:\n",
    "        print('Choose the difficulty of the game:',\n",
    "              '1 - easy',\n",
    "              '2 - normal',\n",
    "              '3 - hard', sep='\\n')\n",
    "        global difficult\n",
    "        difficult = input()\n",
    "        if difficult in ('1', '2', '3'):\n",
    "            global difficult_art, difficult_mobs, health_potion\n",
    "            difficult_art = [0, 1, 3, 5][int(difficult)]\n",
    "            difficult_mobs = [0, 1, 1.5, 2][int(difficult)]\n",
    "            health_potion = [0, 5, 4, 3][int(difficult)]\n",
    "            return None\n",
    "        else:\n",
    "            print('Enter a number from 1 to 3 inclusive')"
   ]
  },
  {
   "cell_type": "markdown",
   "id": "26d109c2",
   "metadata": {},
   "source": [
    "**3. The function \"create_hero()\"** is responsible for creating a character at the beginning of the game.\n",
    "\n",
    "The player chooses one of 4 heroes with different characteristics:\n",
    "- Health - the number of health points of the hero;\n",
    "- Damage - the hero's strength with which he deals damage to enemy creatures;\n",
    "- Initiative is a characteristic that determines the order of the move in battle, the one who has more initiative hits first;\n",
    "- Leveling points - allow you to distribute additional characteristics (health, damage, initiative) at the beginning of the game."
   ]
  },
  {
   "cell_type": "code",
   "execution_count": 3,
   "id": "7d984fdf",
   "metadata": {
    "ExecuteTime": {
     "end_time": "2023-11-06T11:25:49.375224Z",
     "start_time": "2023-11-06T11:25:49.364883Z"
    }
   },
   "outputs": [],
   "source": [
    "def create_hero():\n",
    "    '''Asks the user to enter a number from 1 to 3, depending\n",
    "    on the number entered, creates a global variable \"hero\" that \n",
    "    references a dictionary with character characteristics'''\n",
    "    while True:\n",
    "        characteristic = {'Barbarian_health': 120, 'Barbarian_damage': 30, 'Barbarian_initiative': 2,\n",
    "                          'Barbarian_points': 2, 'Thief_health': 80, 'Thief_damage': 40, 'Thief_initiative': 3,\n",
    "                          'Thief_points': 2, 'Warrior_health': 160, 'Warrior_damage': 20, 'Warrior_initiative': 1,\n",
    "                          'Warrior_points': 2, 'Beggar_health': 40, 'Beggar_damage': 10, 'Beggar_initiative': 1,\n",
    "                          'Beggar_points': 7}\n",
    "        print('Choose one of the following heroes (enter a number): ',\n",
    "              '1 - barbarian is a strong fighter with average characteristics. ',\n",
    "              '(health: 120, damage: 30, initiative: 2, leveling points: 2)',\n",
    "              '2 - thief is a hero with little health but high attack and initiative. ',\n",
    "              '(health: 80, damage: 40, initiative: 3, leveling points: 2)',\n",
    "              '3 - warrior is a hero with a huge amount of health but low attack and initiative. ',\n",
    "              '(health: 160, damage: 20, initiative: 1, leveling points: 2)',\n",
    "              '4 - beggar is a hero with low health, attack and initiative, ',\n",
    "              'but with the ability to flexibly improve characteristics ',\n",
    "              'at the beginning of the game. ',\n",
    "              '(health: 40, damage: 10, initiative: 1, leveling points: 7)', sep='\\n')\n",
    "        hero_choice = input()\n",
    "        if hero_choice in ('1', '2', '3', '4'):\n",
    "            if hero_choice == '1':\n",
    "                hero_choice = 'Barbarian'\n",
    "            elif hero_choice == '2':\n",
    "                hero_choice = 'Thief'\n",
    "            elif hero_choice == '3':\n",
    "                hero_choice = 'Warrior'\n",
    "            else:\n",
    "                hero_choice = 'Beggar'\n",
    "            global hero\n",
    "            hero = {'health': characteristic[f'{hero_choice}_health'],\n",
    "                    'max_health': characteristic[f'{hero_choice}_health'],\n",
    "                    'damage': characteristic[f'{hero_choice}_damage'],\n",
    "                    'initiative': characteristic[f'{hero_choice}_initiative'],\n",
    "                    'leveling_points': characteristic[f'{hero_choice}_points']}\n",
    "            print(f'Your hero is a {hero_choice}',\n",
    "                  f'health = {hero[\"health\"]}',\n",
    "                  f'max health = {hero[\"max_health\"]}',\n",
    "                  f'damage = {hero[\"damage\"]}',\n",
    "                  f'initiative = {hero[\"initiative\"]}\\n', sep='\\n')\n",
    "            return None\n",
    "        else:\n",
    "            print('Enter a number from 1 to 4 inclusive.')"
   ]
  },
  {
   "cell_type": "markdown",
   "id": "b0e8a2c6",
   "metadata": {},
   "source": [
    "**4. The function \"use_points()\"**  is responsible for the distribution of the leveling points of the character's characteristics. \n",
    "\n",
    "The player spends leveling points and improves several characteristics that he wants to additionally upgrade at the beginning of the game:\n",
    "- improve attack by +10';\n",
    "- improve health by +20';\n",
    "- improve initiative +1."
   ]
  },
  {
   "cell_type": "code",
   "execution_count": 4,
   "id": "fbc4b1d8",
   "metadata": {
    "ExecuteTime": {
     "end_time": "2023-11-06T11:25:49.389684Z",
     "start_time": "2023-11-06T11:25:49.377268Z"
    }
   },
   "outputs": [],
   "source": [
    "def use_points():\n",
    "    '''Depending on the number of points, it asks \n",
    "    the user to choose one of three improved \n",
    "    characteristics. If entered correctly, it changes \n",
    "    the value of the characteristic in the dictionary \"hero\".'''\n",
    "    while hero['leveling_points']:\n",
    "        print(f'You have {hero[\"leveling_points\"]} leveling points. Choose which characteristic to improve:',\n",
    "              '1 - improve attack by +10',\n",
    "              '2 - improve health by +20',\n",
    "              '3 - improve initiative +1', sep='\\n')\n",
    "        while True:\n",
    "            improve = input()\n",
    "            if improve in ('1', '2', '3'):\n",
    "                if improve == '1':\n",
    "                    hero[\"damage\"] += 10\n",
    "                    hero[\"leveling_points\"] -= 1\n",
    "                    print(f'You have improved your damage now it is {hero[\"damage\"]}.\\n')\n",
    "                    break\n",
    "                elif improve == '2':\n",
    "                    hero[\"health\"] += 20\n",
    "                    hero[\"max_health\"] += 20\n",
    "                    hero[\"leveling_points\"] -= 1\n",
    "                    print(f'You have improved your health now it is {hero[\"health\"]}.\\n')\n",
    "                    break\n",
    "                elif improve == '3':\n",
    "                    hero[\"initiative\"] += 1\n",
    "                    hero[\"leveling_points\"] -= 1\n",
    "                    print(f'You have improved your initiative now it is {hero[\"initiative\"]}.\\n')\n",
    "                    break\n",
    "            else:\n",
    "                print('Enter the number 1, 2 or 3.')\n",
    "    return"
   ]
  },
  {
   "cell_type": "markdown",
   "id": "96a8f32c",
   "metadata": {},
   "source": [
    "**5. The function \"location()\"** responsible for choosing one of 3 random locations:\n",
    "- forest;\n",
    "- fields;\n",
    "- swamp.\n",
    "\n",
    "Each location contains unique monsters and bosses. Each location has different probabilities:\n",
    "- meet the enemy;\n",
    "- meet the boss;\n",
    "- find an artifact;\n",
    "- restore health points."
   ]
  },
  {
   "cell_type": "code",
   "execution_count": 5,
   "id": "85f15a17",
   "metadata": {
    "ExecuteTime": {
     "end_time": "2023-11-06T11:25:49.398723Z",
     "start_time": "2023-11-06T11:25:49.393696Z"
    }
   },
   "outputs": [],
   "source": [
    "def location():\n",
    "    '''The function returns one of three random strings (location)'''\n",
    "    time.sleep(1)\n",
    "    return random.choice(('forest', 'fields', 'swamp'))"
   ]
  },
  {
   "cell_type": "markdown",
   "id": "9f9acc64",
   "metadata": {},
   "source": [
    "**6. The function \"experience()\"** responsible for calculating the hero's experience points."
   ]
  },
  {
   "cell_type": "code",
   "execution_count": 6,
   "id": "ce6f4f4c",
   "metadata": {
    "ExecuteTime": {
     "end_time": "2023-11-06T11:25:49.405999Z",
     "start_time": "2023-11-06T11:25:49.401736Z"
    }
   },
   "outputs": [],
   "source": [
    "def experience():\n",
    "    '''increases the value of the global variable \"exp\" by 1.'''\n",
    "    global exp\n",
    "    exp += 1\n",
    "    return None"
   ]
  },
  {
   "cell_type": "markdown",
   "id": "bc5b2b08",
   "metadata": {},
   "source": [
    "**7. The function \"improve_hero(exp)\"** responsible for leveling up the hero when reaching a sufficient number of experience points.\n",
    "\n",
    "When the level increases, the player can pump one of the 3 characteristics:\n",
    "- improve attack by +5';\n",
    "- improve health by +10';\n",
    "- improve initiative +1."
   ]
  },
  {
   "cell_type": "code",
   "execution_count": 7,
   "id": "282a983b",
   "metadata": {
    "ExecuteTime": {
     "end_time": "2023-11-06T11:25:49.417859Z",
     "start_time": "2023-11-06T11:25:49.409016Z"
    }
   },
   "outputs": [],
   "source": [
    "def improve_hero(exp):\n",
    "    '''The function takes a numeric value of the global \n",
    "    variable \"exp\", checks whether it is divisible by 3\n",
    "    without remainder, if it is divisible, it changes \n",
    "    one of the 3 values in the dictionary \"hero\" (at the \n",
    "    player's choice - damage, health or initiative).'''\n",
    "    if exp % 3 == 0:\n",
    "        print('Congratulations! You have raised the level of the hero!',\n",
    "              'Select the characteristic you want to improve:',\n",
    "              '1 - improve attack by +5',\n",
    "              '2 - improve health by +10',\n",
    "              '3 - improve initiative +1', sep='\\n')\n",
    "        while True:\n",
    "            improve = input()\n",
    "            if improve in ('1', '2', '3'):\n",
    "                if improve == '1':\n",
    "                    hero[\"damage\"] += 5\n",
    "                    print(f'You have improved your damage now it is {hero[\"damage\"]}.\\n')\n",
    "                    break\n",
    "                elif improve == '2':\n",
    "                    hero[\"health\"] += 10\n",
    "                    hero[\"max_health\"] += 10\n",
    "                    print(f'You have improved your health now it is {hero[\"health\"]}.\\n')\n",
    "                    break\n",
    "                elif improve == '3':\n",
    "                    hero[\"initiative\"] += 1\n",
    "                    print(f'You have improved your initiative now it is {hero[\"initiative\"]}.\\n')\n",
    "                    break\n",
    "            else:\n",
    "                print('Enter the number 1, 2 or 3.')\n",
    "    return None"
   ]
  },
  {
   "cell_type": "markdown",
   "id": "fb0ddab4",
   "metadata": {},
   "source": [
    "**8. The function \"create_enemy(current_location)\"** responsible for creating a random enemy with random characteristics depending on the location."
   ]
  },
  {
   "cell_type": "code",
   "execution_count": 8,
   "id": "ff1decbb",
   "metadata": {
    "ExecuteTime": {
     "end_time": "2023-11-06T11:25:49.428237Z",
     "start_time": "2023-11-06T11:25:49.419866Z"
    }
   },
   "outputs": [],
   "source": [
    "def create_enemy(current_location):\n",
    "    '''The function takes the string value of the variable \n",
    "    \"current_location\" and, depending on the value of the variable\n",
    "    \"current_location\", creates a global variable \"enemy\"\n",
    "    referring to the dictionary with random enemy characteristics'''\n",
    "    if current_location == 'forest':\n",
    "        enemy_name = random.choice(('Traveler', 'Forest spirit', 'Werewolf', 'Elf'))\n",
    "        enemy_health = round(random.randint(45, 90) * difficult_mobs)\n",
    "        enemy_damage = round(random.randint(5, 15) * difficult_mobs)\n",
    "        enemy_initiative = 2\n",
    "    elif current_location == 'fields':\n",
    "        enemy_name = random.choice(('Golem', 'Treasure hunter', 'Horseman'))\n",
    "        enemy_health = round(random.randint(30, 60) * difficult_mobs)\n",
    "        enemy_damage = round(random.randint(5, 10) * difficult_mobs)\n",
    "        enemy_initiative = 1\n",
    "    else:\n",
    "        enemy_name = random.choice(('Slug', 'Skeleton', 'Raven'))\n",
    "        enemy_health = round(random.randint(60, 80) * difficult_mobs)\n",
    "        enemy_damage = round(random.randint(10, 15) * difficult_mobs)\n",
    "        enemy_initiative = 3\n",
    "    global enemy\n",
    "    enemy = {'name': enemy_name, 'health': enemy_health, 'damage': enemy_damage, 'initiative': enemy_initiative}\n",
    "    print(f'You have met {enemy_name} with the following characteristics:',\n",
    "          f'health = {enemy_health}',\n",
    "          f'damage = {enemy_damage}',\n",
    "          f'initiative = {enemy_initiative}\\n', sep='\\n')\n",
    "    return None"
   ]
  },
  {
   "cell_type": "markdown",
   "id": "3336bf17",
   "metadata": {},
   "source": [
    "**9. The function \"create_boss(current_location)\"** responsible for creating a random boss with random characteristics depending on the location.\n",
    "\n",
    "P.S. this function uses exception excitation with \"raise Exception\". Initially, the \"exit()\" function was used in this code block, but due to the features of Jupyter's notebook, it did not work."
   ]
  },
  {
   "cell_type": "code",
   "execution_count": 9,
   "id": "b955c52f",
   "metadata": {
    "ExecuteTime": {
     "end_time": "2023-11-06T11:25:49.438296Z",
     "start_time": "2023-11-06T11:25:49.430248Z"
    }
   },
   "outputs": [],
   "source": [
    "def create_boss(current_location):\n",
    "    '''The function takes the string value of the variable \n",
    "    \"current_location\" and, depending on the value of the variable\n",
    "    \"current_location\", creates a global variable \"boss\"\n",
    "    referring to the dictionary with random boss characteristics'''\n",
    "    if current_location == 'forest':\n",
    "        boss_name = 'Ancient'\n",
    "        boss_health = round(random.randint(70, 110) * difficult_mobs)\n",
    "        boss_damage = round(random.randint(5, 20) * difficult_mobs)\n",
    "        boss_initiative = 3\n",
    "    elif current_location == 'fields':\n",
    "        boss_name = 'Dragon'\n",
    "        boss_health = round(random.randint(40, 70) * difficult_mobs)\n",
    "        boss_damage = round(random.randint(15, 25) * difficult_mobs)\n",
    "        boss_initiative = 3\n",
    "    else:\n",
    "        boss_name = 'Spider'\n",
    "        boss_health = round(random.randint(50, 90) * difficult_mobs)\n",
    "        boss_damage = round(random.randint(10, 20) * difficult_mobs)\n",
    "        boss_initiative = 3\n",
    "    global boss\n",
    "    boss = {'name': boss_name, 'health': boss_health, 'damage': boss_damage, 'initiative': boss_initiative}\n",
    "    print(f'You have met {boss_name} with the following characteristics:',\n",
    "          f'health = {boss_health}',\n",
    "          f'damage = {boss_damage}',\n",
    "          f'initiative = {boss_initiative}\\n', sep='\\n')\n",
    "    return None"
   ]
  },
  {
   "cell_type": "markdown",
   "id": "4f145faf",
   "metadata": {},
   "source": [
    "**10. The function \"check_win()\"** responsible for checking the player's victory, if the player has collected enough artifacts, he wins and the game ends."
   ]
  },
  {
   "cell_type": "code",
   "execution_count": 10,
   "id": "f214e33e",
   "metadata": {
    "ExecuteTime": {
     "end_time": "2023-11-06T11:25:49.448018Z",
     "start_time": "2023-11-06T11:25:49.442339Z"
    }
   },
   "outputs": [],
   "source": [
    "def check_win():\n",
    "    '''Checks the value of the global variable \"artefact\" \n",
    "    with the value of the global variable \"difficult_art\".\n",
    "    If the value of \"artefact\" is less than \"difficult_art\",\n",
    "    it outputs a text message. If the value of \"artefact\" is\n",
    "    greater than \"difficult_art\", it terminates the execution\n",
    "    of the program using an exception \"raise Exception\".'''\n",
    "    if artefact < difficult_art:\n",
    "        print(f'You found an artifact, there are {difficult_art - artefact} artifacts left to find.\\n')\n",
    "        time.sleep(1)\n",
    "        return None\n",
    "    else:\n",
    "        print('You found all the artifacts, congratulations, you win!')\n",
    "        raise Exception"
   ]
  },
  {
   "cell_type": "markdown",
   "id": "618d0e79",
   "metadata": {},
   "source": [
    "**11. The function \"check_death_hero()\"** responsible for checking the number of health points of the player, if the player's health drops below zero, the game ends, the player loses.\n",
    "\n",
    "P.S. this function uses exception excitation with \"raise Exception\". Initially, the \"exit()\" function was used in this code block, but due to the features of Jupyter's notebook, it did not work."
   ]
  },
  {
   "cell_type": "code",
   "execution_count": 11,
   "id": "2ac453e0",
   "metadata": {
    "ExecuteTime": {
     "end_time": "2023-11-06T11:25:49.460021Z",
     "start_time": "2023-11-06T11:25:49.450038Z"
    }
   },
   "outputs": [],
   "source": [
    "def check_death_hero():\n",
    "    '''Сhecks the health value in the dictionary \"hero\" by the key \n",
    "    \"health\", if the health value is less than or equal to zero,\n",
    "    calls an exception \"raise Exception\", which terminates the \n",
    "    execution of the program.'''\n",
    "    if hero[\"health\"] <= 0:\n",
    "        print(f'You are dead, the game is over.')\n",
    "        raise Exception\n",
    "    return None"
   ]
  },
  {
   "cell_type": "markdown",
   "id": "5c4c0598",
   "metadata": {},
   "source": [
    "**12. The function \"check_death_enemy()\"** responsible for checking the number of enemy health points, if the enemy's health drops below zero, the enemy dies."
   ]
  },
  {
   "cell_type": "code",
   "execution_count": 12,
   "id": "a9034464",
   "metadata": {
    "ExecuteTime": {
     "end_time": "2023-11-06T11:25:49.466943Z",
     "start_time": "2023-11-06T11:25:49.462024Z"
    }
   },
   "outputs": [],
   "source": [
    "def check_death_enemy():\n",
    "    '''Checks the health value in the dictionary \"enemy\" by the key\n",
    "    \"health\", if the health value is less than or equal to zero,\n",
    "    returns True, if the health value is greater than zero returns False'''\n",
    "    if enemy[\"health\"] <= 0:\n",
    "        print(f'You have defeated {enemy[\"name\"]} and continue your journey.\\n')\n",
    "        time.sleep(1)\n",
    "        return True\n",
    "    return False"
   ]
  },
  {
   "cell_type": "markdown",
   "id": "7321144a",
   "metadata": {},
   "source": [
    "**13. The function \"check_death_boss()\"** responsible for checking the number of boss health points, if the boss's health drops below zero, the boss dies. The player gets +1 artifact in the inventory after killing the boss."
   ]
  },
  {
   "cell_type": "code",
   "execution_count": 13,
   "id": "d860f992",
   "metadata": {
    "ExecuteTime": {
     "end_time": "2023-11-06T11:25:49.480194Z",
     "start_time": "2023-11-06T11:25:49.468953Z"
    }
   },
   "outputs": [],
   "source": [
    "def check_death_boss():\n",
    "    '''Checks the health value in the dictionary \"boss\" by the key\n",
    "    \"health\", if the health value is less than or equal to zero \n",
    "    increases the value of the variable \"artefact\" by 1, calls \n",
    "    the function \"check_win()\" (checks the winning condition) and \n",
    "    returns True, if the health value is greater than zero returns False'''\n",
    "    if boss[\"health\"] <= 0:\n",
    "        print(f'You have defeated {boss[\"name\"]} and found one artifact.')\n",
    "        global artefact\n",
    "        artefact += 1\n",
    "        check_win()\n",
    "        time.sleep(1)\n",
    "        return True\n",
    "    return False"
   ]
  },
  {
   "cell_type": "markdown",
   "id": "b9a8e75c",
   "metadata": {},
   "source": [
    "**14. The function \"use_potion()\"** responsible for using the recovery of the hero's health with the help of healing potions in battle with enemies. One use restores up to 50 percent of the hero's health."
   ]
  },
  {
   "cell_type": "code",
   "execution_count": 14,
   "id": "d1d8a868",
   "metadata": {
    "ExecuteTime": {
     "end_time": "2023-11-06T11:25:49.492876Z",
     "start_time": "2023-11-06T11:25:49.483205Z"
    }
   },
   "outputs": [],
   "source": [
    "def use_potion():\n",
    "    global health_potion\n",
    "    health_potion -= 1\n",
    "    current_health = hero['health']\n",
    "    hero['health'] += int(0.5 * hero['max_health'])\n",
    "    if hero['health'] >= hero['max_health']:\n",
    "        hero['health'] = hero['max_health']\n",
    "    time.sleep(1)\n",
    "    print(f'You used a healing potion and restored {hero[\"health\"] - current_health} health.',\n",
    "          f'Your current health is equal to {hero[\"health\"]}.',\n",
    "          f'You have {health_potion} healing potions left.\\n', sep='\\n')\n",
    "    return None"
   ]
  },
  {
   "cell_type": "markdown",
   "id": "0924dc3e",
   "metadata": {},
   "source": [
    "**15. The function \"battle_with_enemy()\"** responsible for the mechanics of battles with enemies in the game. The function consists of several blocks:\n",
    "1. When a player encounters a monster, he has a choice - to accept the battle or try to escape (the probability of a successful escape = 33.33%). In case of failure, the player will be forced to fight a monster.\n",
    "2. If a player enters a battle, he has three options for action:\n",
    "- hit the enemy and inflict damage equal to the hero's \"damage\" characteristic;\n",
    "- try to hit the enemy in a weak spot and deal double or triple damage (depends on the characteristics of the initiative) and stun (the enemy skips a turn and does no damage) the enemy with a probability of 50%;\n",
    "- drink a healing potion (if available) and restore up to 50% of the hero's health.\n",
    "\n",
    "The order of the strike depends on the characteristics of the \"initiative\" - who has it more - he strikes first on each turn. The initiative of the monsters depends on the location.\n"
   ]
  },
  {
   "cell_type": "code",
   "execution_count": 15,
   "id": "880da403",
   "metadata": {
    "ExecuteTime": {
     "end_time": "2023-11-06T11:25:49.515149Z",
     "start_time": "2023-11-06T11:25:49.494884Z"
    }
   },
   "outputs": [],
   "source": [
    "def battle_with_enemy():\n",
    "    '''Asks the user to enter a number from 1 to 2 (accept\n",
    "    a fight or attempt to escape), in case of entering 2, \n",
    "    a random event is generated using the \"randint()\" method - \n",
    "    the player escaped or not. If the player has escaped, \n",
    "    the function ends, if not, the battle begins. \n",
    "    Asks the user to enter a number from 1 to 3\n",
    "    (hit an enemy, try to hit a weak spot or drink a potion).\n",
    "    When you enter 3 and when the value of the variable \n",
    "    \"health_potion\" is greater than zero (the presence of\n",
    "    a cure potion), the function \"use_potion()\" is called.\n",
    "    When entering 1 or 2, the values of variables \"hero['initiative']\"\n",
    "    and \"enemy['initiative']\" are checked (the order of impact is \n",
    "    determined). \n",
    "    If 1 was entered, the value of the variable \n",
    "    \"enemy['health']\" changes depending on the value of the variable \n",
    "    \"hero['damage']\", the functions \"check_death_enemy()\" and \n",
    "    \"check_death_hero()\" are called (checking the death of the enemy\n",
    "    and hero). \n",
    "    If 2 was entered using the method \"randint()\" with \n",
    "    a probability of 50 percent, if successful, the value of the\n",
    "    variable \"enemy['health']\" is changed, the function \n",
    "    \"check_death_enemy()\" is called, if unsuccessful, the value of \n",
    "    the variable \"hero['health']\" is changed, the function \n",
    "    \"check_death_hero()\" is called. The battle cycle continues until \n",
    "    one of the following conditions is met: the value of the \n",
    "    variable \"enemy['health']\" or variable \"hero['health']\" becomes \n",
    "    less than 0.'''\n",
    "    print(f'Are you going to fight a {enemy[\"name\"]} or try to run away?')\n",
    "    while True:\n",
    "        print(f'1 - fight the {enemy[\"name\"]}',\n",
    "               '2 - try to run away', sep='\\n')\n",
    "        print(f'Your current health is equal to {hero[\"health\"]}.')\n",
    "        choice_run = input()\n",
    "        if choice_run in ('1', '2'):\n",
    "            break\n",
    "        else:\n",
    "            print('Select an action, enter the number 1 or 2.')\n",
    "    if choice_run == '2': # try to run away\n",
    "        if not random.randint(0, 2):\n",
    "            print('Hurray! You have successfully escaped from the enemy.\\n')\n",
    "            return None\n",
    "        print(f'You failed to escape, you will have to fight with the {enemy[\"name\"]}.')\n",
    "        time.sleep(1)\n",
    "    while enemy['health'] > 0:\n",
    "        if health_potion: \n",
    "            print(f'Select an action:',\n",
    "                  f'1 - hit {enemy[\"name\"]}.',\n",
    "                  f'2 - try to hit {enemy[\"name\"]} weak spot.',\n",
    "                  f'3 - drink a healing potion.', sep='\\n')\n",
    "        else:\n",
    "            print(f'Select an action:',\n",
    "                  f'1 - hit {enemy[\"name\"]}.',\n",
    "                  f'2 - try to hit {enemy[\"name\"]} weak spot.', sep='\\n')\n",
    "        choice_action = input()\n",
    "        if choice_action == '3' and health_potion > 0: \n",
    "            use_potion()\n",
    "            continue\n",
    "        if hero['initiative'] >= enemy['initiative']:\n",
    "            if choice_action == '1': # hit enemy\n",
    "                enemy['health'] -= hero['damage']\n",
    "                print(f'You beat {enemy[\"name\"]}, his health is equal to {enemy[\"health\"]}.')\n",
    "                if check_death_enemy():\n",
    "                    break\n",
    "                hero['health'] -= enemy['damage']\n",
    "                print(f'The enemy attacked you, your health is equal to {hero[\"health\"]}.\\n')\n",
    "                check_death_hero()\n",
    "                time.sleep(1)\n",
    "            elif choice_action == '2': # try to hit enemy weak spot\n",
    "                if random.randint(0, 1):\n",
    "                    enemy['health'] -= hero['damage'] * 3\n",
    "                    print(\n",
    "                        f'{enemy[\"name\"]} loses consciousness and skips a turn, his health is equal to {enemy[\"health\"]}.\\n')\n",
    "                    if check_death_enemy():\n",
    "                        break\n",
    "                    time.sleep(1)\n",
    "                else:\n",
    "                    hero['health'] -= enemy['damage']\n",
    "                    print(f'You missed, {enemy[\"name\"]} attacked you, your health is equal to {hero[\"health\"]}.\\n')\n",
    "                    check_death_hero()\n",
    "                    time.sleep(1)\n",
    "        elif hero['initiative'] < enemy['initiative']:\n",
    "            if choice_action == '1': # hit enemy\n",
    "                hero['health'] -= enemy['damage']\n",
    "                print(f'The enemy attacked you, your health is equal to {hero[\"health\"]}.')\n",
    "                check_death_hero()\n",
    "                enemy['health'] -= hero['damage']\n",
    "                print(f'You beat {enemy[\"name\"]}, his health is equal to {enemy[\"health\"]}.\\n')\n",
    "                if check_death_enemy():\n",
    "                    break\n",
    "                time.sleep(1)\n",
    "            elif choice_action == '2': # try to hit enemy weak spot\n",
    "                if random.randint(0, 1):\n",
    "                    enemy['health'] -= hero['damage'] * 2\n",
    "                    print(\n",
    "                        f'{enemy[\"name\"]} loses consciousness and skips a turn, his health is equal to {enemy[\"health\"]}.\\n')\n",
    "                    if check_death_enemy():\n",
    "                        break\n",
    "                    time.sleep(1)\n",
    "                else:\n",
    "                    hero['health'] -= enemy['damage']\n",
    "                    print(f'You missed, {enemy[\"name\"]} attacked you, your health is equal to {hero[\"health\"]}.\\n')\n",
    "                    check_death_hero()\n",
    "                    time.sleep(1)\n",
    "        else:\n",
    "            print('Select an action, enter the number 1, 2 or 3 (if you have a health potion).')"
   ]
  },
  {
   "cell_type": "markdown",
   "id": "a2b33432",
   "metadata": {},
   "source": [
    "**16. The function \"battle_with_boss()\"** responsible for the mechanics of battles with boss in the game.\n",
    "the player has the following options during the battle:\n",
    "- hit the boss and inflict damage equal to the hero's \"damage\" characteristic;\n",
    "- try to hit the boss in a weak spot and deal double or triple damage (depends on the characteristics of the initiative) and stun (the enemy skips a turn and does no damage) the enemy with a probability of 50%;\n",
    "- drink a healing potion (if available) and restore up to 50% of the hero's health.\n",
    "\n",
    "The order of the strike depends on the characteristics of the \"initiative\" - who has it more - he strikes first on each turn. The initiative of bosses is always equal to 3."
   ]
  },
  {
   "cell_type": "code",
   "execution_count": 16,
   "id": "1cd89ab6",
   "metadata": {
    "ExecuteTime": {
     "end_time": "2023-11-06T11:25:49.534323Z",
     "start_time": "2023-11-06T11:25:49.518160Z"
    }
   },
   "outputs": [],
   "source": [
    "def battle_with_boss():\n",
    "    '''Asks the user to enter a number from 1 to 3\n",
    "    (hit a boss, try to hit a weak spot or drink a potion).\n",
    "    When you enter 3 and when the value of the variable \n",
    "    \"health_potion\" is greater than zero (the presence of\n",
    "    a cure potion), the function \"use_potion()\" is called.\n",
    "    When entering 1 or 2, the values of variables \"hero['initiative']\"\n",
    "    and \"boss['initiative']\" are checked (the order of impact is \n",
    "    determined). \n",
    "    If 1 was entered, the value of the variable \"boss['health']\"\n",
    "    changes depending on the value of the variable \n",
    "    \"hero['damage']\", the functions \"check_death_boss()\" and \n",
    "    \"check_death_hero()\" are called (checking the death of the boss\n",
    "    and hero). \n",
    "    If 2 was entered using the method \"randint()\" with \n",
    "    a probability of 50 percent, if successful, the value of the\n",
    "    variable \"boss['health']\" is changed, the function \n",
    "    \"check_death_boss()\" is called, if unsuccessful, the value of \n",
    "    the variable \"hero['health']\" is changed, the function \n",
    "    \"check_death_hero()\" is called. The battle cycle continues until \n",
    "    one of the following conditions is met: the value of the \n",
    "    variable \"boss['health']\" or variable \"hero['health']\" becomes \n",
    "    less than 0.'''\n",
    "    print('You meet the boss.')\n",
    "    print(f'Your current health is equal to {hero[\"health\"]}.')\n",
    "    while boss['health'] > 0:\n",
    "        if health_potion:\n",
    "            print(f'Select an action:',\n",
    "                  f'1 - hit {boss[\"name\"]}.',\n",
    "                  f'2 - try to hit {boss[\"name\"]} weak spot.',\n",
    "                  f'3 - drink a healing potion.', sep='\\n')\n",
    "        else:\n",
    "            print(f'Select an action:',\n",
    "                  f'1 - hit {boss[\"name\"]}.',\n",
    "                  f'2 - try to hit {boss[\"name\"]} weak spot.', sep='\\n')\n",
    "        choice_action = input()\n",
    "        if choice_action == '3' and health_potion > 0:\n",
    "            use_potion()\n",
    "            continue\n",
    "        if hero['initiative'] >= boss['initiative']:\n",
    "            if choice_action == '1': # hit boss\n",
    "                boss['health'] -= hero['damage']\n",
    "                print(f'You beat {boss[\"name\"]}, his health is equal to {boss[\"health\"]}.')\n",
    "                if check_death_boss():\n",
    "                    break\n",
    "                hero['health'] -= boss['damage']\n",
    "                print(f'The enemy attacked you, your health is equal to {hero[\"health\"]}.\\n')\n",
    "                check_death_hero()\n",
    "                time.sleep(1)\n",
    "            elif choice_action == '2': # try to hit boss weak spot\n",
    "                if random.randint(0, 1):\n",
    "                    boss['health'] -= hero['damage'] * 3\n",
    "                    print(\n",
    "                        f'{boss[\"name\"]} loses consciousness and skips a turn, his health is equal to {boss[\"health\"]}.\\n')\n",
    "                    if check_death_boss():\n",
    "                        break\n",
    "                    time.sleep(1)\n",
    "                else:\n",
    "                    hero['health'] -= boss['damage']\n",
    "                    print(f'You missed, {boss[\"name\"]} attacked you, your health is equal to {hero[\"health\"]}.\\n')\n",
    "                    check_death_hero()\n",
    "                    time.sleep(1)\n",
    "        elif hero['initiative'] < boss['initiative']:\n",
    "            if choice_action == '1': # hit boss\n",
    "                hero['health'] -= boss['damage']\n",
    "                print(f'The enemy attacked you, your health is equal to {hero[\"health\"]}.')\n",
    "                check_death_hero()\n",
    "                boss['health'] -= hero['damage']\n",
    "                print(f'You beat {boss[\"name\"]}, his health is equal to {boss[\"health\"]}.\\n')\n",
    "                if check_death_boss():\n",
    "                    break\n",
    "                time.sleep(1)\n",
    "            elif choice_action == '2': # try to hit boss weak spot\n",
    "                if random.randint(0, 1):\n",
    "                    boss['health'] -= hero['damage'] * 2\n",
    "                    print(\n",
    "                        f'{boss[\"name\"]} loses consciousness and skips a turn, his health is equal to {boss[\"health\"]}.\\n')\n",
    "                    if check_death_boss():\n",
    "                        break\n",
    "                    time.sleep(1)\n",
    "                else:\n",
    "                    hero['health'] -= boss['damage']\n",
    "                    print(f'You missed, {boss[\"name\"]} attacked you, your health is equal to {hero[\"health\"]}.\\n')\n",
    "                    check_death_hero()\n",
    "                    time.sleep(1)\n",
    "        else:\n",
    "            print('Select an action, enter the number 1 or 2.')"
   ]
  },
  {
   "cell_type": "markdown",
   "id": "f2a58518",
   "metadata": {},
   "source": [
    "**17. The function \"meeting_the_enemy(current_location)\"** responsible for the probability of events at the entrance to the location:\n",
    "- meeting with the enemy;\n",
    "- meeting with the boss;\n",
    "- rest or search for an artifact."
   ]
  },
  {
   "cell_type": "code",
   "execution_count": 17,
   "id": "84ccaddc",
   "metadata": {
    "ExecuteTime": {
     "end_time": "2023-11-06T11:25:49.543398Z",
     "start_time": "2023-11-06T11:25:49.537334Z"
    },
    "code_folding": []
   },
   "outputs": [],
   "source": [
    "def meeting_the_enemy(current_location):\n",
    "    '''The function takes a string value of the variable\n",
    "    \"current_location\" and, depending on the value of \n",
    "    the variable \"current_location\", assigns a numeric \n",
    "    value to the variable 'chance' using the 'randint' \n",
    "    method. Depending on the numeric value of the variable\n",
    "    'chance' returns a string ('rest', 'enemy' or 'boss').'''\n",
    "    if current_location == 'forest':\n",
    "        chance = random.randint(0, 9)\n",
    "    elif current_location == 'fields':\n",
    "        chance = random.randint(0, 12)\n",
    "    else:\n",
    "        chance = random.randint(0, 7)\n",
    "    if chance >= 6:\n",
    "        return 'rest'\n",
    "    elif 2 <= chance <= 5:\n",
    "        return 'enemy'\n",
    "    else:\n",
    "        return 'boss'"
   ]
  },
  {
   "cell_type": "markdown",
   "id": "5643350f",
   "metadata": {},
   "source": [
    "**18. The function \"artifact_search(current_location)\"** responsible for finding the artifact in the location."
   ]
  },
  {
   "cell_type": "code",
   "execution_count": 18,
   "id": "ecca3498",
   "metadata": {
    "ExecuteTime": {
     "end_time": "2023-11-06T11:25:49.555542Z",
     "start_time": "2023-11-06T11:25:49.546411Z"
    }
   },
   "outputs": [],
   "source": [
    "def artifact_search(current_location):\n",
    "    '''The function takes a string value of the variable\n",
    "    \"current_location\" and, depending on the value of \n",
    "    the variable \"current_location\", assigns a numeric \n",
    "    value to the variable 'chance' using the 'randint' \n",
    "    method. if the value of variable \"chance\" is greater\n",
    "    than or equal to 7 - changes the value of the global\n",
    "    variable \"artefact\" to 1 and calls the function \n",
    "    \"check_win()\".'''\n",
    "    if current_location == 'forest':\n",
    "        chance = random.randint(3, 10)\n",
    "    elif current_location == 'fields':\n",
    "        chance = random.randint(1, 10)\n",
    "    else:\n",
    "        chance = random.randint(1, 8)\n",
    "    if chance >= 7:\n",
    "        global artefact\n",
    "        artefact += 1\n",
    "        check_win()\n",
    "        return None\n",
    "    print('Unfortunately, the search did not lead to a result, you did not find anything.\\n')\n",
    "    time.sleep(1)\n",
    "    return None\n"
   ]
  },
  {
   "cell_type": "markdown",
   "id": "8defacc5",
   "metadata": {},
   "source": [
    "**19. The function \"rest(current_location)\"** responsible for rest at the location."
   ]
  },
  {
   "cell_type": "code",
   "execution_count": 19,
   "id": "55f55895",
   "metadata": {
    "ExecuteTime": {
     "end_time": "2023-11-06T11:25:49.565535Z",
     "start_time": "2023-11-06T11:25:49.557535Z"
    }
   },
   "outputs": [],
   "source": [
    "def rest(current_location):\n",
    "    '''The function takes a string value of the variable\n",
    "    \"current_location\" and, depending on the value of \n",
    "    the variable \"current_location\", assigns a numeric \n",
    "    value to the variable 'chance' using the 'randint' \n",
    "    method. Changes the value of variable \"hero['health']\"\n",
    "    to the value of variable \"chance\". If the value of \n",
    "    variable \"hero['health']\" becomes greater than the \n",
    "    value of variable \"hero['max_health']\" - equates the \n",
    "    value of variable \"hero['health']\" to the value of \n",
    "    variable \"hero['max_health']\".'''\n",
    "    if current_location == 'forest':\n",
    "        chance = random.randint(10, 20)\n",
    "    elif current_location == 'fields':\n",
    "        chance = random.randint(15, 25)\n",
    "    else:\n",
    "        chance = random.randint(5, 10)\n",
    "    cur_health = hero['health']\n",
    "    hero['health'] += chance\n",
    "    if hero['health'] >= hero['max_health']:\n",
    "        hero['health'] = hero['max_health']\n",
    "    rest_health = hero['health'] - cur_health\n",
    "    print(f'You made a halt and rested, restoring {rest_health} health, now your health is {hero[\"health\"]}.\\n')\n",
    "    time.sleep(1)\n",
    "    return None"
   ]
  },
  {
   "cell_type": "markdown",
   "id": "59fa924f",
   "metadata": {},
   "source": [
    "**20.** In this part of the code, we accumulate, call previously written functions and set their order, thereby creating a game cycle:\n",
    "\n",
    "- select the difficulty level using the function <span style=\"color:blue\">\"difficulty_level()\"</span>;\n",
    "- creating a hero using the function <span style=\"color:blue\">\"create_hero()\"</span>;\n",
    "- use the points of characteristics using the function <span style=\"color:blue\">\"use_points()\"</span>;\n",
    "- create a global variable <span style=\"color:blue\">\"artefact\"</span> and assign it the value 0 (responsible for the number of artifacts in our inventory);\n",
    "- create a global variable <span style=\"color:blue\">\"exp\"</span> and assign it the value 0 (responsible for the amount of experience of our hero);\n",
    "- starting the game cycle;\n",
    "- determine the location in which the hero is located using the function <span style=\"color:blue\">\"location()\"</span>;\n",
    "- we define an event in the location (meeting a monster, boss, or other outcome) using the function <span style=\"color:blue\">\"meeting_the_enemy(current_location)\"</span>;\n",
    "- if we meet a monster or a boss, we create an enemy using function <span style=\"color:blue\">\"create_enemy(current_location)\"</span> or <span style=\"color:blue\">\"create_boss(current_location)\"</span>, we fight the enemy using  function <span style=\"color:blue\">\"battle_with_enemy()\"</span> or <span style=\"color:blue\">\"battle_with_boss()\"</span>, if we defeat the enemy, we gain experience and improve the characteristics using functions <span style=\"color:blue\">\"experience()\"</span> and <span style=\"color:blue\">\"improve_hero(exp)\"</span>;\n",
    "- if we do not meet enemies, we choose to rest or search for an artifact at the location using functions <span style=\"color:blue\">\"rest(current_location)\"</span> and <span style=\"color:blue\">\"artifact_search(current_location)\"</span>.\n",
    "\n",
    "The game cycle continues until the player wins or loses. The player's victory check is performed using the function <span style=\"color:blue\">\"check_win()\"</span> inside the function <span style=\"color:blue\">\"battle_with_boss()\"</span> and <span style=\"color:blue\">\"artifact_search(current_location)\"</span>. Checking the player's defeat is performed using the function <span style=\"color:blue\">\"check_death_hero()\"</span> inside the functions <span style=\"color:blue\">\"battle_with_enemy()\"</span> and <span style=\"color:blue\">\"battle_with_boss()\"</span>.\n",
    "\n",
    "\n",
    "\n"
   ]
  },
  {
   "cell_type": "code",
   "execution_count": 20,
   "id": "870e94ef",
   "metadata": {
    "ExecuteTime": {
     "end_time": "2023-11-06T11:29:08.749311Z",
     "start_time": "2023-11-06T11:25:49.568533Z"
    },
    "scrolled": true
   },
   "outputs": [
    {
     "name": "stdout",
     "output_type": "stream",
     "text": [
      "Welcome to the Monsters and Artifacts game.\n",
      "In this game you have to create a hero and \n",
      "go on a journey through locations. On your \n",
      "journey, you will encounter various monsters\n",
      "and bosses. Your task is to collect a certain\n",
      "number of artifacts without dying in battles \n",
      "with monsters. Artifacts can be obtained by \n",
      "killing bosses or by finding them in an empty \n",
      "location (without monsters). All interaction with\n",
      "the game is carried out using the numbers on the\n",
      "keyboard 1, 2 or 3 - follow the instructions in \n",
      "the console. Have a good game traveler :)\n",
      "\n",
      "Choose the difficulty of the game:\n",
      "1 - easy\n",
      "2 - normal\n",
      "3 - hard\n",
      "Choose one of the following heroes (enter a number): \n",
      "1 - barbarian is a strong fighter with average characteristics. \n",
      "(health: 120, damage: 30, initiative: 2, leveling points: 2)\n",
      "2 - thief is a hero with little health but high attack and initiative. \n",
      "(health: 80, damage: 40, initiative: 3, leveling points: 2)\n",
      "3 - warrior is a hero with a huge amount of health but low attack and initiative. \n",
      "(health: 160, damage: 20, initiative: 1, leveling points: 2)\n",
      "4 - beggar is a hero with low health, attack and initiative, \n",
      "but with the ability to flexibly improve characteristics \n",
      "at the beginning of the game. \n",
      "(health: 40, damage: 10, initiative: 1, leveling points: 7)\n",
      "Your hero is a Thief\n",
      "health = 80\n",
      "max health = 80\n",
      "damage = 40\n",
      "initiative = 3\n",
      "\n",
      "You have 2 leveling points. Choose which characteristic to improve:\n",
      "1 - improve attack by +10\n",
      "2 - improve health by +20\n",
      "3 - improve initiative +1\n",
      "You have improved your health now it is 100.\n",
      "\n",
      "You have 1 leveling points. Choose which characteristic to improve:\n",
      "1 - improve attack by +10\n",
      "2 - improve health by +20\n",
      "3 - improve initiative +1\n",
      "You have improved your health now it is 120.\n",
      "\n",
      "You come to the swamp.\n",
      "\n",
      "You have met Spider with the following characteristics:\n",
      "health = 80\n",
      "damage = 30\n",
      "initiative = 3\n",
      "\n",
      "You meet the boss.\n",
      "Your current health is equal to 120.\n",
      "Select an action:\n",
      "1 - hit Spider.\n",
      "2 - try to hit Spider weak spot.\n",
      "3 - drink a healing potion.\n",
      "You missed, Spider attacked you, your health is equal to 90.\n",
      "\n",
      "Select an action:\n",
      "1 - hit Spider.\n",
      "2 - try to hit Spider weak spot.\n",
      "3 - drink a healing potion.\n",
      "You beat Spider, his health is equal to 40.\n",
      "The enemy attacked you, your health is equal to 60.\n",
      "\n",
      "Select an action:\n",
      "1 - hit Spider.\n",
      "2 - try to hit Spider weak spot.\n",
      "3 - drink a healing potion.\n",
      "Spider loses consciousness and skips a turn, his health is equal to -80.\n",
      "\n",
      "You have defeated Spider and found one artifact.\n",
      "You found an artifact, there are 2 artifacts left to find.\n",
      "\n",
      "You come to the swamp.\n",
      "\n",
      "You have met Raven with the following characteristics:\n",
      "health = 104\n",
      "damage = 15\n",
      "initiative = 3\n",
      "\n",
      "Are you going to fight a Raven or try to run away?\n",
      "1 - fight the Raven\n",
      "2 - try to run away\n",
      "Your current health is equal to 60.\n",
      "You failed to escape, you will have to fight with the Raven.\n",
      "Select an action:\n",
      "1 - hit Raven.\n",
      "2 - try to hit Raven weak spot.\n",
      "3 - drink a healing potion.\n",
      "Raven loses consciousness and skips a turn, his health is equal to -16.\n",
      "\n",
      "You have defeated Raven and continue your journey.\n",
      "\n",
      "You come to the fields.\n",
      "\n",
      "You have met Treasure hunter with the following characteristics:\n",
      "health = 70\n",
      "damage = 14\n",
      "initiative = 1\n",
      "\n",
      "Are you going to fight a Treasure hunter or try to run away?\n",
      "1 - fight the Treasure hunter\n",
      "2 - try to run away\n",
      "Your current health is equal to 60.\n",
      "Select an action:\n",
      "1 - hit Treasure hunter.\n",
      "2 - try to hit Treasure hunter weak spot.\n",
      "3 - drink a healing potion.\n",
      "You missed, Treasure hunter attacked you, your health is equal to 46.\n",
      "\n",
      "Select an action:\n",
      "1 - hit Treasure hunter.\n",
      "2 - try to hit Treasure hunter weak spot.\n",
      "3 - drink a healing potion.\n",
      "Treasure hunter loses consciousness and skips a turn, his health is equal to -50.\n",
      "\n",
      "You have defeated Treasure hunter and continue your journey.\n",
      "\n",
      "Congratulations! You have raised the level of the hero!\n",
      "Select the characteristic you want to improve:\n",
      "1 - improve attack by +5\n",
      "2 - improve health by +10\n",
      "3 - improve initiative +1\n",
      "You have improved your damage now it is 45.\n",
      "\n",
      "You come to the swamp.\n",
      "\n",
      "You have met Skeleton with the following characteristics:\n",
      "health = 111\n",
      "damage = 21\n",
      "initiative = 3\n",
      "\n",
      "Are you going to fight a Skeleton or try to run away?\n",
      "1 - fight the Skeleton\n",
      "2 - try to run away\n",
      "Your current health is equal to 46.\n",
      "You failed to escape, you will have to fight with the Skeleton.\n",
      "Select an action:\n",
      "1 - hit Skeleton.\n",
      "2 - try to hit Skeleton weak spot.\n",
      "3 - drink a healing potion.\n",
      "Skeleton loses consciousness and skips a turn, his health is equal to -24.\n",
      "\n",
      "You have defeated Skeleton and continue your journey.\n",
      "\n",
      "You come to the forest.\n",
      "\n",
      "You have met Werewolf with the following characteristics:\n",
      "health = 81\n",
      "damage = 14\n",
      "initiative = 2\n",
      "\n",
      "Are you going to fight a Werewolf or try to run away?\n",
      "1 - fight the Werewolf\n",
      "2 - try to run away\n",
      "Your current health is equal to 46.\n",
      "Select an action:\n",
      "1 - hit Werewolf.\n",
      "2 - try to hit Werewolf weak spot.\n",
      "3 - drink a healing potion.\n",
      "Werewolf loses consciousness and skips a turn, his health is equal to -54.\n",
      "\n",
      "You have defeated Werewolf and continue your journey.\n",
      "\n",
      "You come to the fields.\n",
      "\n",
      "There are no enemies in this location, you can arrange a rest or try to look for an artifact.\n",
      "Choose one of the following options:\n",
      "1 - have a rest.\n",
      "2 - try to find the artifact.\n",
      "You found an artifact, there are 1 artifacts left to find.\n",
      "\n",
      "You come to the fields.\n",
      "\n",
      "There are no enemies in this location, you can arrange a rest or try to look for an artifact.\n",
      "Choose one of the following options:\n",
      "1 - have a rest.\n",
      "2 - try to find the artifact.\n",
      "You found all the artifacts, congratulations, you win!\n"
     ]
    },
    {
     "ename": "Exception",
     "evalue": "",
     "output_type": "error",
     "traceback": [
      "\u001b[1;31m---------------------------------------------------------------------------\u001b[0m",
      "\u001b[1;31mException\u001b[0m                                 Traceback (most recent call last)",
      "Cell \u001b[1;32mIn[20], line 54\u001b[0m\n\u001b[0;32m     52\u001b[0m         \u001b[38;5;28;01mbreak\u001b[39;00m\n\u001b[0;32m     53\u001b[0m     \u001b[38;5;28;01melse\u001b[39;00m:\n\u001b[1;32m---> 54\u001b[0m         artifact_search(current_location)\n\u001b[0;32m     55\u001b[0m         \u001b[38;5;28;01mbreak\u001b[39;00m\n\u001b[0;32m     56\u001b[0m \u001b[38;5;28;01melse\u001b[39;00m:\n",
      "Cell \u001b[1;32mIn[18], line 19\u001b[0m, in \u001b[0;36martifact_search\u001b[1;34m(current_location)\u001b[0m\n\u001b[0;32m     17\u001b[0m     \u001b[38;5;28;01mglobal\u001b[39;00m artefact\n\u001b[0;32m     18\u001b[0m     artefact \u001b[38;5;241m+\u001b[39m\u001b[38;5;241m=\u001b[39m \u001b[38;5;241m1\u001b[39m\n\u001b[1;32m---> 19\u001b[0m     check_win()\n\u001b[0;32m     20\u001b[0m     \u001b[38;5;28;01mreturn\u001b[39;00m \u001b[38;5;28;01mNone\u001b[39;00m\n\u001b[0;32m     21\u001b[0m \u001b[38;5;28mprint\u001b[39m(\u001b[38;5;124m'\u001b[39m\u001b[38;5;124mUnfortunately, the search did not lead to a result, you did not find anything.\u001b[39m\u001b[38;5;130;01m\\n\u001b[39;00m\u001b[38;5;124m'\u001b[39m)\n",
      "Cell \u001b[1;32mIn[10], line 14\u001b[0m, in \u001b[0;36mcheck_win\u001b[1;34m()\u001b[0m\n\u001b[0;32m     12\u001b[0m \u001b[38;5;28;01melse\u001b[39;00m:\n\u001b[0;32m     13\u001b[0m     \u001b[38;5;28mprint\u001b[39m(\u001b[38;5;124m'\u001b[39m\u001b[38;5;124mYou found all the artifacts, congratulations, you win!\u001b[39m\u001b[38;5;124m'\u001b[39m)\n\u001b[1;32m---> 14\u001b[0m     \u001b[38;5;28;01mraise\u001b[39;00m \u001b[38;5;167;01mException\u001b[39;00m\n",
      "\u001b[1;31mException\u001b[0m: "
     ]
    }
   ],
   "source": [
    "print(\"Welcome to the Monsters and Artifacts game.\",\n",
    "      \"In this game you have to create a hero and \",\n",
    "      \"go on a journey through locations. On your \",\n",
    "      \"journey, you will encounter various monsters\",\n",
    "      \"and bosses. Your task is to collect a certain\",\n",
    "      \"number of artifacts without dying in battles \",\n",
    "      \"with monsters. Artifacts can be obtained by \",\n",
    "      \"killing bosses or by finding them in an empty \",\n",
    "      \"location (without monsters). All interaction with\",\n",
    "      \"the game is carried out using the numbers on the\",\n",
    "      \"keyboard 1, 2 or 3 - follow the instructions in \",\n",
    "      \"the console. Have a good game traveler :)\\n\", sep='\\n')\n",
    "difficulty_level()\n",
    "create_hero()\n",
    "use_points()\n",
    "artefact = 0\n",
    "exp = 0\n",
    "time.sleep(1)\n",
    "while artefact < difficult_art:\n",
    "    current_location = location()\n",
    "    print(f'You come to the {current_location}.\\n')\n",
    "    if meeting_the_enemy(current_location) == 'enemy':\n",
    "        create_enemy(current_location)\n",
    "        health_enemy = enemy['health']\n",
    "        time.sleep(1)\n",
    "        battle_with_enemy()\n",
    "        time.sleep(1)\n",
    "        if health_enemy != enemy['health']:\n",
    "            experience()\n",
    "            improve_hero(exp)\n",
    "    elif meeting_the_enemy(current_location) == 'boss':\n",
    "        create_boss(current_location)\n",
    "        health_boss = boss['health']\n",
    "        time.sleep(1)\n",
    "        battle_with_boss()\n",
    "        time.sleep(1)\n",
    "        if health_boss != boss['health']:\n",
    "            experience()\n",
    "            improve_hero(exp)\n",
    "    else:\n",
    "        while True:\n",
    "            print(\n",
    "                'There are no enemies in this location, you can arrange a rest or try to look for an artifact.')\n",
    "            print('Choose one of the following options:',\n",
    "                  '1 - have a rest.',\n",
    "                  '2 - try to find the artifact.', sep='\\n')\n",
    "            selected_option = input()\n",
    "            time.sleep(1)\n",
    "            if selected_option in ('1', '2'):\n",
    "                if selected_option == '1':\n",
    "                    rest(current_location)\n",
    "                    break\n",
    "                else:\n",
    "                    artifact_search(current_location)\n",
    "                    break\n",
    "            else:\n",
    "                print('Enter a number 1 or 2.')"
   ]
  },
  {
   "cell_type": "markdown",
   "id": "2ee6cdb3",
   "metadata": {},
   "source": [
    "**Some Suggestions for improvement:**\n",
    "- add additional characters;\n",
    "- add the ability to use things (weapons, armor) by adding a few more characteristics to the \"hero\" dictionary (each slot of a -thing is a certain key, a thing is a value);\n",
    "- more variability (for example, accumulation of gold for killing monsters and a trader to the player's camp when he does not meet anyone at the location), add a dictionary with different things to the merchant and offer random 3 things each time;\n",
    "- add a dictionary with things with different characteristics and a certain chance of a random thing falling from a monster or boss;\n",
    "- the code can be rewritten using OOP, but I just started learning it, so another time).\n",
    "\n",
    "This is the alpha version of the game with closed access, in case you find errors, write to me in Telegram - <span style=\"color:blue\">@Jeremix</span>."
   ]
  }
 ],
 "metadata": {
  "kernelspec": {
   "display_name": "Python 3 (ipykernel)",
   "language": "python",
   "name": "python3"
  },
  "language_info": {
   "codemirror_mode": {
    "name": "ipython",
    "version": 3
   },
   "file_extension": ".py",
   "mimetype": "text/x-python",
   "name": "python",
   "nbconvert_exporter": "python",
   "pygments_lexer": "ipython3",
   "version": "3.11.4"
  },
  "toc": {
   "base_numbering": 1,
   "nav_menu": {},
   "number_sections": true,
   "sideBar": true,
   "skip_h1_title": false,
   "title_cell": "Table of Contents",
   "title_sidebar": "Contents",
   "toc_cell": false,
   "toc_position": {},
   "toc_section_display": true,
   "toc_window_display": false
  }
 },
 "nbformat": 4,
 "nbformat_minor": 5
}
