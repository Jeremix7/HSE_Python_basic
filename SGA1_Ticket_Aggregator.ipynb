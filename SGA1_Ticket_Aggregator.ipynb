{
 "cells": [
  {
   "cell_type": "markdown",
   "id": "5dc0af65",
   "metadata": {},
   "source": [
    "# Context"
   ]
  },
  {
   "cell_type": "markdown",
   "id": "110d7333",
   "metadata": {},
   "source": [
    "Flight booking sites or 'airfare aggregators' have become one of the most useful sources to aggregate amounts of information about destinations, flights, airlines, and airfares. You have either heard or used at least one of the flight search sites like Travelocity, Expedia, CheapOair, TripAdvisor Flights, or Skyscanner. Before the pandemic, people used to spend a lot of time on these sites."
   ]
  },
  {
   "cell_type": "markdown",
   "id": "072470a0",
   "metadata": {},
   "source": [
    "# Assignment Instructions"
   ]
  },
  {
   "cell_type": "markdown",
   "id": "109abe43",
   "metadata": {},
   "source": [
    "Imagine you need to develop your airfare aggregator. Let's assume that your aggregator will be posted on a website that is used for searching Moscow - New York flights. Your solution should be based on the following results of the customer research. There are some quotes from the brief:\n",
    "\n",
    "There are four criteria that people value the most: the ticket price, the number of transfers, a refund (either included or not), and luggage (either included or not);\n",
    "\n",
    "The cheaper, the better! People say that the best offer is the one which costs less than 200; it should be either a direct flight or a flight with one transfer; refund is included; luggage is included;\n",
    "\n",
    "Then, customers say that they consider an offer 'good enough' if its price is in a range from 200 to 250; it is either a direct flight or might require one or two transfers; refund is either included or not; the same for luggage - it is either included or not;\n",
    "\n",
    "Finally, customers claim that the worst offer is the one which price is more than 250; three and more transfers are required; refund is either included or not; the same for luggage - it is either included or not."
   ]
  },
  {
   "cell_type": "markdown",
   "id": "300118bf",
   "metadata": {},
   "source": [
    "# Step-by-step Instructions"
   ]
  },
  {
   "cell_type": "markdown",
   "id": "ac41702b",
   "metadata": {},
   "source": [
    "Now, what we expect you to do!\n",
    "\n",
    "Write a program that gets as input the data on these criteria. The data is entered from the keyboard. Think about the way you organize the input, transform the data, and check whether the data are entered in a right way. Then the program should classify an offer based on these criteria and print on the screen an offer category and this offer's description. You need to come up with the classification rule based on the information from the brief. In principle, the output should be one of the four categories, which are 'the best', 'good enough', 'bad', and 'other' (for those which cannot be classified as either of three main categories). Use Boolean conditions and if / if-else / if-elif-else constructions.\n",
    "\n",
    "Analyze the aggregator based on the information from the brief. Describe its advantages and disadvantages. Do you personally find these criteria and this classification rule convincing? Use words, not a code.\n",
    "\n",
    "Suggest your alternative solution. Propose other criteria, completely different way of categorizing offers, different categories themselves - whatever you think should enhance the aggregator based on the brief. You are supposed, first, describe it in words, and, second, show your code."
   ]
  },
  {
   "cell_type": "markdown",
   "id": "b37faaea",
   "metadata": {},
   "source": [
    "# Basic solution"
   ]
  },
  {
   "cell_type": "markdown",
   "id": "c6595966",
   "metadata": {},
   "source": [
    "**Introduction**: the program is designed to evaluate ticket offers from Moscow to New York according to several criteria. \n",
    "As a result of the offer analysis, the program assigns one of four categories to the offer: \n",
    "- the best offer;\n",
    "- a good enough offer;\n",
    "- the worst offer;\n",
    "- other offers."
   ]
  },
  {
   "cell_type": "markdown",
   "id": "d9ef69f5",
   "metadata": {},
   "source": [
    "**1.1.** At this step, the program receives data from the user and verifies that the data is entered correctly. \n",
    "If the data is entered incorrectly, the program requires you to re-enter the data until it receives the correct input.\n",
    "Conditions (if-else) and an infinite loop (while) are used to check the data.\n",
    "\n",
    "The following criteria are used to evaluate the proposal:\n",
    "- the cost of the ticket (*ticket_price*);\n",
    "- the number of transfers (*num_of_trans*);\n",
    "- the possibility of ticket refund (*refund*);\n",
    "- the cost of the ticket takes into account baggage or not (*luggage*)."
   ]
  },
  {
   "cell_type": "code",
   "execution_count": 10,
   "id": "59606aa6",
   "metadata": {
    "ExecuteTime": {
     "end_time": "2023-09-25T14:44:53.009449Z",
     "start_time": "2023-09-25T14:44:45.000089Z"
    }
   },
   "outputs": [
    {
     "name": "stdout",
     "output_type": "stream",
     "text": [
      "Enter the ticket price: 260\n",
      "Enter the number of transfers: 3\n",
      "Is the refund included? Enter \"y\" if yes and \"n\" if no: n\n",
      "Is luggage included in the ticket price? Enter \"y\" if yes and \"n\" if no: n\n"
     ]
    }
   ],
   "source": [
    "while True:\n",
    "    ticket_price = input('Enter the ticket price: ')\n",
    "    if ticket_price.isnumeric() and float(ticket_price) > 0:\n",
    "        break\n",
    "    else:\n",
    "        print('Enter the ticket price as a number greater than zero')\n",
    "\n",
    "while True:\n",
    "    num_of_trans = input('Enter the number of transfers: ')\n",
    "    if num_of_trans.isnumeric() and int(num_of_trans) >= 0:\n",
    "        break\n",
    "    else:\n",
    "        print('Enter the number of transfers as a number greater than or equal to zero')\n",
    "\n",
    "while True:\n",
    "    refund = input('Is the refund included? Enter \"y\" if yes and \"n\" if no: ')\n",
    "    if refund.isalpha() and (refund == 'y' or refund == 'n'):\n",
    "        break\n",
    "    else:\n",
    "        print('Enter a value in the form of the letter \"y\" or the letter \"n\"')\n",
    "\n",
    "while True:\n",
    "    luggage = input('Is luggage included in the ticket price? Enter \"y\" if yes and \"n\" if no: ')\n",
    "    if luggage.isalpha() and (luggage == 'y' or luggage == 'n'):\n",
    "        break\n",
    "    else:\n",
    "        print('Enter a value in the form of the letter \"y\" or the letter \"n\"')"
   ]
  },
  {
   "cell_type": "markdown",
   "id": "174b3ad5",
   "metadata": {},
   "source": [
    "**1.2.** At this step, the program converts the string data from step 1.1."
   ]
  },
  {
   "cell_type": "code",
   "execution_count": 11,
   "id": "7a44ddb5",
   "metadata": {
    "ExecuteTime": {
     "end_time": "2023-09-25T14:44:53.992839Z",
     "start_time": "2023-09-25T14:44:53.988836Z"
    }
   },
   "outputs": [],
   "source": [
    "ticket_price = float(ticket_price)\n",
    "num_of_trans = int(num_of_trans)"
   ]
  },
  {
   "cell_type": "markdown",
   "id": "3426e18b",
   "metadata": {},
   "source": [
    "**1.3.** At this step, the program analyzes the entered data from step 1.1. and using four criteria [the ticket price, the number of transfers, a refund (either included or not), and luggage (either included or not)] evaluates the offer."
   ]
  },
  {
   "cell_type": "code",
   "execution_count": 12,
   "id": "1535398d",
   "metadata": {
    "ExecuteTime": {
     "end_time": "2023-09-25T14:44:55.254115Z",
     "start_time": "2023-09-25T14:44:55.248253Z"
    }
   },
   "outputs": [
    {
     "name": "stdout",
     "output_type": "stream",
     "text": [
      "This is the worst offer\n"
     ]
    }
   ],
   "source": [
    "if ticket_price < 200 and num_of_trans <= 1 and refund == 'y' and luggage == 'y':\n",
    "    print('This is the best offer')\n",
    "elif 200 <= ticket_price <= 250 and num_of_trans <= 2:\n",
    "    print('This is a good enough offer')\n",
    "elif ticket_price > 250 and num_of_trans >= 3:\n",
    "    print('This is the worst offer')\n",
    "else:\n",
    "    print('This offer is impossible to evaluate')"
   ]
  },
  {
   "cell_type": "markdown",
   "id": "d3c7af2d",
   "metadata": {},
   "source": [
    "**Conclusions:** \n",
    "1. The advantages of this program are that the main criteria of the ticket are used for evaluation, sufficient for most people.\n",
    "\n",
    "2. The disadvantages of the program stem from the advantages - you can enable additional ticket parameters (duration of the flight, the ability to order a transfer from the airport, choose seats before boarding, order additional meals or take a pet with you).\n",
    "\n",
    "3. The program evaluates proposals too strictly and narrowly. Many offers cannot be evaluated. For example, an offer with a price of 190 and 1 transfer may come across and the program will not be able to evaluate this offer because of too strict conditions prescribed in it. Another example - a ticket may not include a refund and luggage, but it costs 100 - the program will not be able to evaluate this offer either, although it seems very profitable."
   ]
  },
  {
   "cell_type": "markdown",
   "id": "ecf40906",
   "metadata": {},
   "source": [
    "# Improved solution"
   ]
  },
  {
   "cell_type": "markdown",
   "id": "03b58cb5",
   "metadata": {},
   "source": [
    "**Introduction**: the program is designed to evaluate ticket offers from Moscow to New York. As a result of the analysis, the program assigns a rating to the offer from 0 to 100.\n",
    "\n",
    "After analyzing the ticket market on various websites, an offer was chosen as the best offer (100/100) for which:\n",
    "- the ticket cost is 340 dollars;\n",
    "- the luggage cost is 40 dollars;\n",
    "- there are no transfers;\n",
    "- the duration of the flight is 10 hours;\n",
    "- the ticket refund is included;\n",
    "- it is possible to take a pet with you;\n",
    "- there is a possibility to choose a seat;\n",
    "- it is possible to order additional meals;\n",
    "- it is possible to order a transfer from the airport."
   ]
  },
  {
   "cell_type": "markdown",
   "id": "0ab39e43",
   "metadata": {},
   "source": [
    "**2.1.** At this step, the program receives data from the user and verifies that the data is entered correctly. If the data is entered incorrectly, the program requires you to re-enter the data until it receives the correct input. Conditions (if-else) and an infinite loop (while) are used to check the data.\n",
    "\n",
    "Additional evaluation criteria have been added: \n",
    "- the cost of luggage (*luggage_price*); \n",
    "- the duration of the flight (*total_time*); \n",
    "- the ability to take a pet with you (*pets*); \n",
    "- the ability to choose a seat (*seats*); \n",
    "- the ability to order additional meals (*meals*); \n",
    "- the ability to order a transfer from the airport (*transfer*)."
   ]
  },
  {
   "cell_type": "code",
   "execution_count": 15,
   "id": "6e323faf",
   "metadata": {
    "ExecuteTime": {
     "end_time": "2023-09-25T14:48:51.301340Z",
     "start_time": "2023-09-25T14:48:26.533102Z"
    }
   },
   "outputs": [
    {
     "name": "stdout",
     "output_type": "stream",
     "text": [
      "Enter the ticket price without luggage: 340.28\n",
      "Enter the luggage price: 40.25\n",
      "Enter the number of transfers: 0\n",
      "Enter the total duration of the flight, including transfers in hours: dasdzc\n",
      "Enter the total duration of the flight as a number greater than 10\n",
      "Enter the total duration of the flight, including transfers in hours: 13\n",
      "Is the refund included? Enter \"y\" if yes and \"n\" if no: y\n",
      "Is it possible to transport pets? Enter \"y\" if yes and \"n\" if no: n\n",
      "Is it possible to choose seats during registration? Enter \"y\" if yes and \"n\" if no: y\n",
      "Is it possible to order additional meals? Enter \"y\" if yes and \"n\" if no: y\n",
      "Is it possible to book a transfer from the airport? Enter \"y\" if yes and \"n\" if no: y\n"
     ]
    }
   ],
   "source": [
    "while True:\n",
    "    ticket_price = input('Enter the ticket price without luggage: ')\n",
    "    if ticket_price.replace('.', '').isnumeric() and float(ticket_price) >= 340:\n",
    "        break\n",
    "    else:\n",
    "        print('Enter the ticket price as a number greater than 340$')\n",
    "\n",
    "while True:\n",
    "    luggage_price = input('Enter the luggage price: ')\n",
    "    if luggage_price.replace('.', '').isnumeric() and float(luggage_price) >= 40:\n",
    "        break\n",
    "    else:\n",
    "        print('Enter the cost of luggage as a number greater than 40$')\n",
    "\n",
    "while True:\n",
    "    num_of_trans = input('Enter the number of transfers: ')\n",
    "    if num_of_trans.isnumeric() and int(num_of_trans) >= 0:\n",
    "        break\n",
    "    else:\n",
    "        print('Enter the number of transfers as a number greater than or equal to zero')\n",
    "\n",
    "while True:\n",
    "    total_time = input('Enter the total duration of the flight, including transfers in hours: ')\n",
    "    if total_time.isnumeric() and int(total_time) >= 10:\n",
    "        break\n",
    "    else:\n",
    "        print('Enter the total duration of the flight as a number greater than 10')\n",
    "\n",
    "while True:\n",
    "    refund = input('Is the refund included? Enter \"y\" if yes and \"n\" if no: ')\n",
    "    if refund.isalpha() and refund == 'y' or refund == 'n':\n",
    "        break\n",
    "    else:\n",
    "        print('Enter a value in the form of the letter \"y\" or the letter \"n\"')\n",
    "\n",
    "while True:\n",
    "    pets = input('Is it possible to transport pets? Enter \"y\" if yes and \"n\" if no: ')\n",
    "    if pets.isalpha() and pets == 'y' or pets == 'n':\n",
    "        break\n",
    "    else:\n",
    "        print('Enter a value in the form of the letter \"y\" or the letter \"n\"')\n",
    "\n",
    "while True:\n",
    "    seats = input('Is it possible to choose seats during registration? Enter \"y\" if yes and \"n\" if no: ')\n",
    "    if seats.isalpha() and seats == 'y' or seats == 'n':\n",
    "        break\n",
    "    else:\n",
    "        print('Enter a value in the form of the letter \"y\" or the letter \"n\"')\n",
    "\n",
    "while True:\n",
    "    meals = input('Is it possible to order additional meals? Enter \"y\" if yes and \"n\" if no: ')\n",
    "    if meals.isalpha() and meals == 'y' or meals == 'n':\n",
    "        break\n",
    "    else:\n",
    "        print('Enter a value in the form of the letter \"y\" or the letter \"n\"')\n",
    "\n",
    "while True:\n",
    "    transfer = input('Is it possible to book a transfer from the airport? Enter \"y\" if yes and \"n\" if no: ')\n",
    "    if transfer.isalpha() and transfer == 'y' or transfer == 'n':\n",
    "        break\n",
    "    else:\n",
    "        print('Enter a value in the form of the letter \"y\" or the letter \"n\"')"
   ]
  },
  {
   "cell_type": "markdown",
   "id": "aff034c0",
   "metadata": {},
   "source": [
    "**2.2.** At this step, the program assigns a rating to each variable."
   ]
  },
  {
   "cell_type": "code",
   "execution_count": 16,
   "id": "bf3780e4",
   "metadata": {
    "ExecuteTime": {
     "end_time": "2023-09-25T14:48:53.415951Z",
     "start_time": "2023-09-25T14:48:53.409775Z"
    }
   },
   "outputs": [],
   "source": [
    "ticket_price_est = (1 / float(ticket_price)) * 200\n",
    "luggage_price_est = 1 /  (float(luggage_price) ** 0.5)\n",
    "if int(num_of_trans) <= 3:\n",
    "    num_of_trans_est = [0.15, 0.05, 0.02][int(num_of_trans)]\n",
    "else:\n",
    "    num_of_trans_est = 0 \n",
    "if int(total_time) <= 30:\n",
    "    total_time_est = [(i / 100) for i in range(21, 0, -1)][int(total_time) - 10]\n",
    "else:\n",
    "    total_time_est = 0\n",
    "refund_est = 0.05 if refund == 'y' else 0\n",
    "pets_est = 0.01 if pets == 'y' else 0\n",
    "seats_est = 0.02 if seats == 'y' else 0\n",
    "meals_est = 0.02 if meals == 'y' else 0\n",
    "transfer_est = 0.01 if transfer == 'y' else 0"
   ]
  },
  {
   "cell_type": "markdown",
   "id": "d216b787",
   "metadata": {},
   "source": [
    "**2.3.** At this step, the program calculates and outputs the rating of the offer from 0 to 100."
   ]
  },
  {
   "cell_type": "code",
   "execution_count": 17,
   "id": "d48b66eb",
   "metadata": {
    "ExecuteTime": {
     "end_time": "2023-09-25T14:48:56.384928Z",
     "start_time": "2023-09-25T14:48:56.380023Z"
    }
   },
   "outputs": [
    {
     "name": "stdout",
     "output_type": "stream",
     "text": [
      "The ticket score is 99 points out of 100\n"
     ]
    }
   ],
   "source": [
    "rating = (ticket_price_est + luggage_price_est + num_of_trans_est \n",
    "          + refund_est + pets_est + seats_est + meals_est + transfer_est) * 100\n",
    "if rating > 100:\n",
    "    rating = 100\n",
    "print(f'The ticket score is {int(rating)} points out of 100')"
   ]
  },
  {
   "cell_type": "markdown",
   "id": "ba950be7",
   "metadata": {},
   "source": [
    "**Conclusions:** this program uses metrics and can evaluate any ticket, but it only works with the data of one ticket. In reality, it is necessary to analyze several tickets."
   ]
  },
  {
   "cell_type": "markdown",
   "id": "2a4dc5c3",
   "metadata": {},
   "source": [
    "# Advanced solution"
   ]
  },
  {
   "cell_type": "markdown",
   "id": "7b44bc23",
   "metadata": {},
   "source": [
    "**Introduction:** previous decisions were not entirely correct, as they took into account only one ticket. In reality, the ticket aggregator selects the best option for us among many different tickets.\n",
    "\n",
    "This program analyzes the user's requests and offers the best solution from a variety of tickets."
   ]
  },
  {
   "cell_type": "markdown",
   "id": "e09e1a41",
   "metadata": {},
   "source": [
    "**3.1.** Importing a library for working with tabular data."
   ]
  },
  {
   "cell_type": "code",
   "execution_count": 18,
   "id": "3dc8b39d",
   "metadata": {
    "ExecuteTime": {
     "end_time": "2023-09-25T14:49:04.479869Z",
     "start_time": "2023-09-25T14:49:03.739120Z"
    },
    "code_folding": []
   },
   "outputs": [],
   "source": [
    "import pandas as pd"
   ]
  },
  {
   "cell_type": "markdown",
   "id": "540d9d5f",
   "metadata": {},
   "source": [
    "**3.2.** Upload a csv file with ticket data.\n",
    "\n",
    "data file - https://disk.yandex.ru/d/16vdldjtPvVPMQ \n",
    "If the link doesn't work, write to me - Telegram: **<span style=\"color:blue\">@Jeremix</span>**"
   ]
  },
  {
   "cell_type": "code",
   "execution_count": 20,
   "id": "4c9e5147",
   "metadata": {
    "ExecuteTime": {
     "end_time": "2023-09-25T14:49:58.268808Z",
     "start_time": "2023-09-25T14:49:58.237857Z"
    },
    "scrolled": false
   },
   "outputs": [],
   "source": [
    "df = pd.read_csv(r'C:\\Users\\y2966\\Downloads\\tickets.csv')"
   ]
  },
  {
   "cell_type": "markdown",
   "id": "276edb15",
   "metadata": {},
   "source": [
    "**3.3.** We output the first 10 lines of the file and find out with its structure."
   ]
  },
  {
   "cell_type": "code",
   "execution_count": 21,
   "id": "63f357fe",
   "metadata": {
    "ExecuteTime": {
     "end_time": "2023-09-25T14:50:00.566327Z",
     "start_time": "2023-09-25T14:50:00.544301Z"
    }
   },
   "outputs": [
    {
     "data": {
      "text/html": [
       "<div>\n",
       "<style scoped>\n",
       "    .dataframe tbody tr th:only-of-type {\n",
       "        vertical-align: middle;\n",
       "    }\n",
       "\n",
       "    .dataframe tbody tr th {\n",
       "        vertical-align: top;\n",
       "    }\n",
       "\n",
       "    .dataframe thead th {\n",
       "        text-align: right;\n",
       "    }\n",
       "</style>\n",
       "<table border=\"1\" class=\"dataframe\">\n",
       "  <thead>\n",
       "    <tr style=\"text-align: right;\">\n",
       "      <th></th>\n",
       "      <th>№</th>\n",
       "      <th>departure</th>\n",
       "      <th>arrival</th>\n",
       "      <th>ticket_price</th>\n",
       "      <th>luggage_price</th>\n",
       "      <th>num_of_trans</th>\n",
       "      <th>total_time</th>\n",
       "      <th>refund</th>\n",
       "      <th>pets</th>\n",
       "      <th>seats</th>\n",
       "      <th>meals</th>\n",
       "      <th>transfer</th>\n",
       "    </tr>\n",
       "  </thead>\n",
       "  <tbody>\n",
       "    <tr>\n",
       "      <th>0</th>\n",
       "      <td>1</td>\n",
       "      <td>Moscow</td>\n",
       "      <td>New-York</td>\n",
       "      <td>511</td>\n",
       "      <td>80</td>\n",
       "      <td>2</td>\n",
       "      <td>22</td>\n",
       "      <td>yes</td>\n",
       "      <td>no</td>\n",
       "      <td>yes</td>\n",
       "      <td>no</td>\n",
       "      <td>no</td>\n",
       "    </tr>\n",
       "    <tr>\n",
       "      <th>1</th>\n",
       "      <td>2</td>\n",
       "      <td>Moscow</td>\n",
       "      <td>New-York</td>\n",
       "      <td>405</td>\n",
       "      <td>110</td>\n",
       "      <td>3</td>\n",
       "      <td>25</td>\n",
       "      <td>no</td>\n",
       "      <td>yes</td>\n",
       "      <td>no</td>\n",
       "      <td>no</td>\n",
       "      <td>yes</td>\n",
       "    </tr>\n",
       "    <tr>\n",
       "      <th>2</th>\n",
       "      <td>3</td>\n",
       "      <td>Moscow</td>\n",
       "      <td>New-York</td>\n",
       "      <td>386</td>\n",
       "      <td>100</td>\n",
       "      <td>1</td>\n",
       "      <td>13</td>\n",
       "      <td>yes</td>\n",
       "      <td>no</td>\n",
       "      <td>no</td>\n",
       "      <td>no</td>\n",
       "      <td>no</td>\n",
       "    </tr>\n",
       "    <tr>\n",
       "      <th>3</th>\n",
       "      <td>4</td>\n",
       "      <td>Moscow</td>\n",
       "      <td>New-York</td>\n",
       "      <td>657</td>\n",
       "      <td>50</td>\n",
       "      <td>0</td>\n",
       "      <td>12</td>\n",
       "      <td>no</td>\n",
       "      <td>yes</td>\n",
       "      <td>no</td>\n",
       "      <td>no</td>\n",
       "      <td>yes</td>\n",
       "    </tr>\n",
       "    <tr>\n",
       "      <th>4</th>\n",
       "      <td>5</td>\n",
       "      <td>Moscow</td>\n",
       "      <td>New-York</td>\n",
       "      <td>788</td>\n",
       "      <td>60</td>\n",
       "      <td>0</td>\n",
       "      <td>11</td>\n",
       "      <td>no</td>\n",
       "      <td>no</td>\n",
       "      <td>yes</td>\n",
       "      <td>yes</td>\n",
       "      <td>no</td>\n",
       "    </tr>\n",
       "    <tr>\n",
       "      <th>5</th>\n",
       "      <td>6</td>\n",
       "      <td>Moscow</td>\n",
       "      <td>New-York</td>\n",
       "      <td>550</td>\n",
       "      <td>70</td>\n",
       "      <td>4</td>\n",
       "      <td>35</td>\n",
       "      <td>yes</td>\n",
       "      <td>no</td>\n",
       "      <td>no</td>\n",
       "      <td>yes</td>\n",
       "      <td>yes</td>\n",
       "    </tr>\n",
       "    <tr>\n",
       "      <th>6</th>\n",
       "      <td>7</td>\n",
       "      <td>Moscow</td>\n",
       "      <td>New-York</td>\n",
       "      <td>551</td>\n",
       "      <td>90</td>\n",
       "      <td>3</td>\n",
       "      <td>28</td>\n",
       "      <td>no</td>\n",
       "      <td>no</td>\n",
       "      <td>yes</td>\n",
       "      <td>no</td>\n",
       "      <td>no</td>\n",
       "    </tr>\n",
       "    <tr>\n",
       "      <th>7</th>\n",
       "      <td>8</td>\n",
       "      <td>Moscow</td>\n",
       "      <td>New-York</td>\n",
       "      <td>428</td>\n",
       "      <td>95</td>\n",
       "      <td>2</td>\n",
       "      <td>21</td>\n",
       "      <td>no</td>\n",
       "      <td>yes</td>\n",
       "      <td>no</td>\n",
       "      <td>no</td>\n",
       "      <td>yes</td>\n",
       "    </tr>\n",
       "    <tr>\n",
       "      <th>8</th>\n",
       "      <td>9</td>\n",
       "      <td>Moscow</td>\n",
       "      <td>New-York</td>\n",
       "      <td>678</td>\n",
       "      <td>50</td>\n",
       "      <td>1</td>\n",
       "      <td>25</td>\n",
       "      <td>yes</td>\n",
       "      <td>yes</td>\n",
       "      <td>no</td>\n",
       "      <td>no</td>\n",
       "      <td>yes</td>\n",
       "    </tr>\n",
       "    <tr>\n",
       "      <th>9</th>\n",
       "      <td>10</td>\n",
       "      <td>Moscow</td>\n",
       "      <td>New-York</td>\n",
       "      <td>435</td>\n",
       "      <td>60</td>\n",
       "      <td>1</td>\n",
       "      <td>15</td>\n",
       "      <td>no</td>\n",
       "      <td>yes</td>\n",
       "      <td>no</td>\n",
       "      <td>yes</td>\n",
       "      <td>yes</td>\n",
       "    </tr>\n",
       "  </tbody>\n",
       "</table>\n",
       "</div>"
      ],
      "text/plain": [
       "    № departure   arrival  ticket_price  luggage_price  num_of_trans  \\\n",
       "0   1    Moscow  New-York           511             80             2   \n",
       "1   2    Moscow  New-York           405            110             3   \n",
       "2   3    Moscow  New-York           386            100             1   \n",
       "3   4    Moscow  New-York           657             50             0   \n",
       "4   5    Moscow  New-York           788             60             0   \n",
       "5   6    Moscow  New-York           550             70             4   \n",
       "6   7    Moscow  New-York           551             90             3   \n",
       "7   8    Moscow  New-York           428             95             2   \n",
       "8   9    Moscow  New-York           678             50             1   \n",
       "9  10    Moscow  New-York           435             60             1   \n",
       "\n",
       "   total_time refund pets seats meals transfer  \n",
       "0          22    yes   no   yes    no       no  \n",
       "1          25     no  yes    no    no      yes  \n",
       "2          13    yes   no    no    no       no  \n",
       "3          12     no  yes    no    no      yes  \n",
       "4          11     no   no   yes   yes       no  \n",
       "5          35    yes   no    no   yes      yes  \n",
       "6          28     no   no   yes    no       no  \n",
       "7          21     no  yes    no    no      yes  \n",
       "8          25    yes  yes    no    no      yes  \n",
       "9          15     no  yes    no   yes      yes  "
      ]
     },
     "execution_count": 21,
     "metadata": {},
     "output_type": "execute_result"
    }
   ],
   "source": [
    "df.head(10)"
   ]
  },
  {
   "cell_type": "markdown",
   "id": "459244c8",
   "metadata": {},
   "source": [
    "**3.4.** For convenience, we will replace all values yes - 1, no - 0."
   ]
  },
  {
   "cell_type": "code",
   "execution_count": 22,
   "id": "22620bd8",
   "metadata": {
    "ExecuteTime": {
     "end_time": "2023-09-25T14:50:01.980441Z",
     "start_time": "2023-09-25T14:50:01.973964Z"
    }
   },
   "outputs": [],
   "source": [
    "df = df.replace(['yes', 'no'], [1, 0])"
   ]
  },
  {
   "cell_type": "markdown",
   "id": "2abc6c74",
   "metadata": {},
   "source": [
    "**3.5.** We conduct a survey of the user and find out his needs. Clear the dataframe of unnecessary data."
   ]
  },
  {
   "cell_type": "code",
   "execution_count": 23,
   "id": "5e656152",
   "metadata": {
    "ExecuteTime": {
     "end_time": "2023-09-25T14:50:33.183707Z",
     "start_time": "2023-09-25T14:50:03.877558Z"
    }
   },
   "outputs": [
    {
     "name": "stdout",
     "output_type": "stream",
     "text": [
      "Do you need luggage? Enter \"y\" if yes and \"n\" if no: y\n",
      "Do you need a direct ticket?? Enter \"y\" if yes and \"n\" if no: n\n",
      "Is the refund included? Enter \"y\" if yes and \"n\" if no: y\n",
      "Is it possible to transport pets? Enter \"y\" if yes and \"n\" if no: n\n",
      "Is it possible to choose seats during registration? Enter \"y\" if yes and \"n\" if no: n\n",
      "Is it possible to order additional meals? Enter \"y\" if yes and \"n\" if no: y\n",
      "Is it possible to book a transfer from the airport? Enter \"y\" if yes and \"n\" if no: n\n"
     ]
    }
   ],
   "source": [
    "while True:\n",
    "    luggage = input('Do you need luggage? Enter \"y\" if yes and \"n\" if no: ')\n",
    "    if luggage.isalpha() and luggage == 'y' or luggage == 'n':\n",
    "        if luggage == 'n':\n",
    "            df['total_price'] = df.ticket_price\n",
    "        else:\n",
    "            df['total_price'] = df.ticket_price + df.luggage_price\n",
    "        break\n",
    "    else:\n",
    "        print('Enter a value in the form of the letter \"y\" or the letter \"n\"')\n",
    "        \n",
    "while True:\n",
    "    num_of_trans = input('Do you need a direct ticket? Enter \"y\" if yes and \"n\" if no: ')\n",
    "    if num_of_trans.isalpha() and num_of_trans == 'y' or num_of_trans == 'n':\n",
    "        if num_of_trans == 'y':\n",
    "            df = df[df.num_of_trans == 0]\n",
    "            break\n",
    "        break\n",
    "    else:\n",
    "        print('Enter a value in the form of the letter \"y\" or the letter \"n\"')\n",
    "        \n",
    "while True:\n",
    "    refund = input('Is the refund included? Enter \"y\" if yes and \"n\" if no: ')\n",
    "    if refund.isalpha() and refund == 'y' or refund == 'n':\n",
    "        if refund == 'y':\n",
    "            df = df[df.refund == 1]\n",
    "            break\n",
    "        break\n",
    "    else:\n",
    "        print('Enter a value in the form of the letter \"y\" or the letter \"n\"')\n",
    "\n",
    "while True:\n",
    "    pets = input('Do you want to take a pet with you? Enter \"y\" if yes and \"n\" if no: ')\n",
    "    if pets.isalpha() and pets == 'y' or pets == 'n':\n",
    "        if pets == 'y':\n",
    "            df = df[df.pets == 1]\n",
    "            break\n",
    "        break\n",
    "    else:\n",
    "        print('Enter a value in the form of the letter \"y\" or the letter \"n\"')\n",
    "\n",
    "while True:\n",
    "    seats = input('Do you want to choose seats? Enter \"y\" if yes and \"n\" if no: ')\n",
    "    if seats.isalpha() and seats == 'y' or seats == 'n':\n",
    "        if seats == 'y':\n",
    "            df = df[df.seats == 1]\n",
    "            break\n",
    "        break\n",
    "    else:\n",
    "        print('Enter a value in the form of the letter \"y\" or the letter \"n\"')\n",
    "\n",
    "while True:\n",
    "    meals = input('Would you like to order extra meals? Enter \"y\" if yes and \"n\" if no: ')\n",
    "    if meals.isalpha() and meals == 'y' or meals == 'n':\n",
    "        if meals == 'y':\n",
    "            df = df[df.meals == 1]\n",
    "            break\n",
    "        break\n",
    "    else:\n",
    "        print('Enter a value in the form of the letter \"y\" or the letter \"n\"')\n",
    "        \n",
    "while True:\n",
    "    transfer = input('Do you need an airport transfer? Enter \"y\" if yes and \"n\" if no: ')\n",
    "    if transfer.isalpha() and transfer == 'y' or transfer == 'n':\n",
    "        if transfer == 'y':\n",
    "            df = df[df.transfer == 1]\n",
    "            break\n",
    "        break\n",
    "    else:\n",
    "        print('Enter a value in the form of the letter \"y\" or the letter \"n\"')"
   ]
  },
  {
   "cell_type": "markdown",
   "id": "a697a786",
   "metadata": {},
   "source": [
    "**3.6.** We sort tickets that have passed according to the conditions of clause 3.5."
   ]
  },
  {
   "cell_type": "code",
   "execution_count": 24,
   "id": "a5e87aa2",
   "metadata": {
    "ExecuteTime": {
     "end_time": "2023-09-25T14:50:34.405735Z",
     "start_time": "2023-09-25T14:50:34.400917Z"
    }
   },
   "outputs": [],
   "source": [
    "df = df.sort_values(['total_price'])"
   ]
  },
  {
   "cell_type": "markdown",
   "id": "a57d452a",
   "metadata": {},
   "source": [
    "**3.7.** We output the best offer."
   ]
  },
  {
   "cell_type": "code",
   "execution_count": 25,
   "id": "00f1098b",
   "metadata": {
    "ExecuteTime": {
     "end_time": "2023-09-25T14:50:35.693478Z",
     "start_time": "2023-09-25T14:50:35.681713Z"
    }
   },
   "outputs": [
    {
     "name": "stdout",
     "output_type": "stream",
     "text": [
      "We have found a ticket suitable for you, here are its characteristics:\n"
     ]
    },
    {
     "data": {
      "text/html": [
       "<div>\n",
       "<style scoped>\n",
       "    .dataframe tbody tr th:only-of-type {\n",
       "        vertical-align: middle;\n",
       "    }\n",
       "\n",
       "    .dataframe tbody tr th {\n",
       "        vertical-align: top;\n",
       "    }\n",
       "\n",
       "    .dataframe thead th {\n",
       "        text-align: right;\n",
       "    }\n",
       "</style>\n",
       "<table border=\"1\" class=\"dataframe\">\n",
       "  <thead>\n",
       "    <tr style=\"text-align: right;\">\n",
       "      <th></th>\n",
       "      <th>№</th>\n",
       "      <th>departure</th>\n",
       "      <th>arrival</th>\n",
       "      <th>ticket_price</th>\n",
       "      <th>luggage_price</th>\n",
       "      <th>num_of_trans</th>\n",
       "      <th>total_time</th>\n",
       "      <th>refund</th>\n",
       "      <th>pets</th>\n",
       "      <th>seats</th>\n",
       "      <th>meals</th>\n",
       "      <th>transfer</th>\n",
       "      <th>total_price</th>\n",
       "    </tr>\n",
       "  </thead>\n",
       "  <tbody>\n",
       "    <tr>\n",
       "      <th>14</th>\n",
       "      <td>15</td>\n",
       "      <td>Moscow</td>\n",
       "      <td>New-York</td>\n",
       "      <td>398</td>\n",
       "      <td>150</td>\n",
       "      <td>4</td>\n",
       "      <td>38</td>\n",
       "      <td>1</td>\n",
       "      <td>0</td>\n",
       "      <td>0</td>\n",
       "      <td>1</td>\n",
       "      <td>1</td>\n",
       "      <td>548</td>\n",
       "    </tr>\n",
       "  </tbody>\n",
       "</table>\n",
       "</div>"
      ],
      "text/plain": [
       "     № departure   arrival  ticket_price  luggage_price  num_of_trans  \\\n",
       "14  15    Moscow  New-York           398            150             4   \n",
       "\n",
       "    total_time  refund  pets  seats  meals  transfer  total_price  \n",
       "14          38       1     0      0      1         1          548  "
      ]
     },
     "execution_count": 25,
     "metadata": {},
     "output_type": "execute_result"
    }
   ],
   "source": [
    "print('We have found a ticket suitable for you, here are its characteristics:')\n",
    "df.head(1)"
   ]
  },
  {
   "cell_type": "markdown",
   "id": "f508b4b4",
   "metadata": {},
   "source": [
    "**Conclusions:** this program is close to the real task. The user receives the best offer for his requests from a variety of options. This program can be scaled and additionally take into account the departure date, route and many other parameters."
   ]
  },
  {
   "cell_type": "markdown",
   "id": "03a6761f",
   "metadata": {},
   "source": [
    "If you have any questions - Telegram: **<span style=\"color:blue\">@Jeremix</span>**"
   ]
  }
 ],
 "metadata": {
  "kernelspec": {
   "display_name": "Python 3 (ipykernel)",
   "language": "python",
   "name": "python3"
  },
  "language_info": {
   "codemirror_mode": {
    "name": "ipython",
    "version": 3
   },
   "file_extension": ".py",
   "mimetype": "text/x-python",
   "name": "python",
   "nbconvert_exporter": "python",
   "pygments_lexer": "ipython3",
   "version": "3.11.4"
  },
  "toc": {
   "base_numbering": 1,
   "nav_menu": {},
   "number_sections": true,
   "sideBar": true,
   "skip_h1_title": false,
   "title_cell": "Table of Contents",
   "title_sidebar": "Contents",
   "toc_cell": false,
   "toc_position": {
    "height": "calc(100% - 180px)",
    "left": "10px",
    "top": "150px",
    "width": "430.4px"
   },
   "toc_section_display": true,
   "toc_window_display": false
  }
 },
 "nbformat": 4,
 "nbformat_minor": 5
}
